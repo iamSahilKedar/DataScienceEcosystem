{
 "cells": [
  {
   "cell_type": "markdown",
   "id": "8c64a540",
   "metadata": {},
   "source": [
    "# Data science Tools and Ecosytem"
   ]
  },
  {
   "cell_type": "markdown",
   "id": "6ebf7e99",
   "metadata": {},
   "source": [
    "## In this notebook, Data Science Tools and Ecosystem are summarized."
   ]
  },
  {
   "cell_type": "markdown",
   "id": "40c4f5f0",
   "metadata": {},
   "source": [
    "**OBJECTIVES:**\n",
    "    +List popular languages for Data Science\n",
    "    +Some of the popular languages that Data Scientists use\n",
    "    +Some of the commonly used libraries used by Data Scientists"
   ]
  },
  {
   "cell_type": "markdown",
   "id": "a25ee92b",
   "metadata": {},
   "source": [
    "## Some of the popular languages that Data Scientists use are:\n",
    " 1. Python\n",
    " 2. R\n",
    " 3. Julia"
   ]
  },
  {
   "cell_type": "markdown",
   "id": "bbd95645",
   "metadata": {},
   "source": [
    "## Some of the commonly used libraries used by Data Scientists include:\n",
    "    1. Pandas\n",
    "    2. Numpy\n",
    "    3. Tensorflow"
   ]
  },
  {
   "cell_type": "markdown",
   "id": "f28cf397",
   "metadata": {},
   "source": [
    "|Data Science Tools|\n",
    "|-------------------------------|\n",
    "|JupyterNotebook|\n",
    "|VsCode|\n",
    "|JupyterLab|"
   ]
  },
  {
   "cell_type": "markdown",
   "id": "e3c9edee",
   "metadata": {},
   "source": [
    "### Below are a few examples of evaluating arithmetic expressions in Python:\n",
    "a*b\n",
    "a+b\n",
    "a/b\n",
    "a-b"
   ]
  },
  {
   "cell_type": "code",
   "execution_count": 1,
   "id": "38490b48",
   "metadata": {},
   "outputs": [
    {
     "data": {
      "text/plain": [
       "17"
      ]
     },
     "execution_count": 1,
     "metadata": {},
     "output_type": "execute_result"
    }
   ],
   "source": [
    "#This a simple arithmetic expression to mutiply then add integers\n",
    "(3*4)+5"
   ]
  },
  {
   "cell_type": "code",
   "execution_count": 2,
   "id": "b351aab0",
   "metadata": {},
   "outputs": [
    {
     "data": {
      "text/plain": [
       "3.3333333333333335"
      ]
     },
     "execution_count": 2,
     "metadata": {},
     "output_type": "execute_result"
    }
   ],
   "source": [
    "#This will convert 200 minutes to hours by diving by 60\n",
    "200/60"
   ]
  },
  {
   "cell_type": "markdown",
   "id": "27f1d693",
   "metadata": {},
   "source": [
    "## AUTHOR: \n",
    "SAHIL KEDAR\n"
   ]
  },
  {
   "cell_type": "code",
   "execution_count": null,
   "id": "6d8d3aea",
   "metadata": {},
   "outputs": [],
   "source": []
  }
 ],
 "metadata": {
  "kernelspec": {
   "display_name": "Python 3 (ipykernel)",
   "language": "python",
   "name": "python3"
  },
  "language_info": {
   "codemirror_mode": {
    "name": "ipython",
    "version": 3
   },
   "file_extension": ".py",
   "mimetype": "text/x-python",
   "name": "python",
   "nbconvert_exporter": "python",
   "pygments_lexer": "ipython3",
   "version": "3.11.4"
  }
 },
 "nbformat": 4,
 "nbformat_minor": 5
}
